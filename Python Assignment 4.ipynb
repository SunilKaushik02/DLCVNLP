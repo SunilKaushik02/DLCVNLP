{
 "cells": [
  {
   "cell_type": "code",
   "execution_count": 13,
   "metadata": {},
   "outputs": [],
   "source": [
    "# importing packages\n",
    "\n",
    "import numpy as np\n",
    "import pandas as pd"
   ]
  },
  {
   "cell_type": "markdown",
   "metadata": {},
   "source": [
    "### Q1.1 Write a Python Program(with class concepts) to find the area of the triangle using the below formula.area = (s*(s-a)*(s-b)*(s-c)) ** 0.5. Function to take the length of thesides of triangle from user should be defined in the parent class and function to calculate the area should be defined in subclass.\n",
    "\n",
    "\n"
   ]
  },
  {
   "cell_type": "code",
   "execution_count": 17,
   "metadata": {},
   "outputs": [
    {
     "name": "stdout",
     "output_type": "stream",
     "text": [
      "Area of the traingle is: 3.799671038392666\n"
     ]
    }
   ],
   "source": [
    "class Area:\n",
    "    def __init__(self, a, b, c):\n",
    "        self.a = a\n",
    "        self.b = b\n",
    "        self.c = c\n",
    "        \n",
    "class calculate(Area):\n",
    "    def __init__(self,*args):\n",
    "        super(calculate,self).__init__(*args)\n",
    "    \n",
    "    def __str__(self):\n",
    "        return f\"Area of the traingle is: {np.sqrt(((self.a+self.b+self.c)/2)*(((self.a+self.b+self.c)/2)-self.a)*(((self.a+self.b+self.c)/2)-self.b)*(((self.a+self.b+self.c)/2)-self.c))}\"\n",
    "            \n",
    "results=calculate(5,2,4)\n",
    "print(results)"
   ]
  },
  {
   "cell_type": "markdown",
   "metadata": {},
   "source": [
    "### Q1.2 Write a function filter_long_words() that takes a list of words and an integer n and returns the list of words that are longer than n."
   ]
  },
  {
   "cell_type": "code",
   "execution_count": 23,
   "metadata": {},
   "outputs": [
    {
     "name": "stdout",
     "output_type": "stream",
     "text": [
      "The filtered data is: ['apple']\n"
     ]
    }
   ],
   "source": [
    "def filter_long_words(list_of_words,n):\n",
    "    \n",
    "    output=[]\n",
    "    \n",
    "    [output.append(list_of_words[i]) for i in range(len(list_of_words)) if len(list_of_words[i])>n]\n",
    "\n",
    "    print(f'The filtered data is: {output}')\n",
    "\n",
    "filter_long_words(['apple','ball','cat'],4)"
   ]
  },
  {
   "cell_type": "markdown",
   "metadata": {},
   "source": [
    "### Q2.1 Write a Python program using function concept that maps list of words into a list of integers representing the lengths of the corresponding words."
   ]
  },
  {
   "cell_type": "code",
   "execution_count": 44,
   "metadata": {},
   "outputs": [
    {
     "name": "stdout",
     "output_type": "stream",
     "text": [
      " Length of each word is: [('apple', 5), ('ball', 4), ('cat', 3)]\n"
     ]
    }
   ],
   "source": [
    "def length_words(list_of_words):\n",
    "    \n",
    "    print (f\" Length of each word is: { [(x,len(x)) for x in list_of_words]}\")\n",
    "\n",
    "length_words(['apple','ball','cat'])"
   ]
  },
  {
   "cell_type": "markdown",
   "metadata": {},
   "source": [
    "### Q2.2 Write a Python function which takes a character (i.e. a string of length 1) and returns True if it is a vowel, False otherwise."
   ]
  },
  {
   "cell_type": "code",
   "execution_count": 59,
   "metadata": {},
   "outputs": [
    {
     "name": "stdout",
     "output_type": "stream",
     "text": [
      "Character 'a' is a vowel.\n",
      "Character 'z' is not a vowel.\n"
     ]
    }
   ],
   "source": [
    "def vowel_character(character):\n",
    "    \n",
    "    if ((character=='a')|(character=='e')|(character=='i')|(character=='o')|(character=='u')):\n",
    "        \n",
    "        print(f\"Character '{character}' is a vowel.\")\n",
    "        \n",
    "    else: \n",
    "        \n",
    "        print(f\"Character '{character}' is not a vowel.\")\n",
    "\n",
    "vowel_character('a')\n",
    "vowel_character('z')"
   ]
  }
 ],
 "metadata": {
  "kernelspec": {
   "display_name": "Python 3",
   "language": "python",
   "name": "python3"
  },
  "language_info": {
   "codemirror_mode": {
    "name": "ipython",
    "version": 3
   },
   "file_extension": ".py",
   "mimetype": "text/x-python",
   "name": "python",
   "nbconvert_exporter": "python",
   "pygments_lexer": "ipython3",
   "version": "3.7.6"
  }
 },
 "nbformat": 4,
 "nbformat_minor": 2
}
