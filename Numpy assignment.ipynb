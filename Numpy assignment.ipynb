{
 "cells": [
  {
   "cell_type": "code",
   "execution_count": 2,
   "metadata": {},
   "outputs": [],
   "source": [
    "# importing packages\n",
    "\n",
    "import numpy as np\n",
    "import pandas as pd"
   ]
  },
  {
   "cell_type": "markdown",
   "metadata": {},
   "source": [
    "### Q1. Write a function so that the columns of the output matrix are powers of the input vector. \n",
    "\n",
    "The order of the powers is determined by the increasing boolean argument. Specifically, when increasing is False, the i-th output column is the input vector raised element-wise to the power of N - i - 1. \n",
    "\n",
    "HINT: Such a matrix with a geometric progression in each row is named for Alexandre- Theophile Vandermonde."
   ]
  },
  {
   "cell_type": "code",
   "execution_count": 13,
   "metadata": {},
   "outputs": [
    {
     "name": "stdout",
     "output_type": "stream",
     "text": [
      "The output matrix is: \n",
      "[[  1   1   1   1   1]\n",
      " [ 16   8   4   2   1]\n",
      " [ 81  27   9   3   1]\n",
      " [256  64  16   4   1]\n",
      " [625 125  25   5   1]]\n"
     ]
    }
   ],
   "source": [
    "def alex(input_array,n_columns_order):\n",
    "    \n",
    "    x=np.array(input_array)\n",
    "\n",
    "    print(f\"The output matrix is: \\n{np.column_stack([x**(n_columns_order-1-i) for i in range(n_columns_order)])}\")\n",
    "    \n",
    "alex([1,2,3,4,5],5)"
   ]
  },
  {
   "cell_type": "markdown",
   "metadata": {},
   "source": [
    "### Q2. Given a sequence of n values x1, x2, ..., xn and a window size k>0, the k-th moving average of the given sequence is defined as follows: \n",
    "\n",
    "The moving average sequence has n-k+1 elements as shown below. \n",
    "\n",
    "The moving averages with k=4 of a ten-value sequence (n=10) is shown below \n",
    "\n",
    "i 1 2 3 4 5 6 7 8 9 10 ===== == == == == == == == == == == Input 10 20 30 40 50 60 70 80 90 100 y1 25 = (10+20+30+40)/4 y2 35 = (20+30+40+50)/4 y3 45 = (30+40+50+60)/4 y4 55 = (40+50+60+70)/4 y5 65 = (50+60+70+80)/4 y6 75 = (60+70+80+90)/4 y7 85 = (70+80+90+100)/4 \n",
    "\n",
    "Thus, the moving average sequence has n-k+1=10-4+1=7 values. \n",
    "\n",
    "Question: Write a function to find moving average in an array over a window: \n",
    "\n",
    "Test it over [3, 5, 7, 2, 8, 10, 11, 65, 72, 81, 99, 100, 150] and window of 3. "
   ]
  },
  {
   "cell_type": "code",
   "execution_count": 40,
   "metadata": {},
   "outputs": [
    {
     "name": "stdout",
     "output_type": "stream",
     "text": [
      "The output of the moving average for time period 3 is: \n",
      " [5.0, 4.667, 5.667, 6.667, 9.667, 28.667, 49.333, 72.667, 84.0, 93.333, 116.333]\n"
     ]
    }
   ],
   "source": [
    "def moving_av(input_list,time_period):\n",
    "\n",
    "    y=[]\n",
    "    \n",
    "    try:\n",
    "\n",
    "        [y.append(np.round(np.sum(input_list[i:i+time_period])/time_period,3)) for i in range(len(input_list)-time_period+1)]\n",
    "        \n",
    "    except:\n",
    "        \n",
    "        print('Please enter a positive moving average time period and non-zero')\n",
    "    \n",
    "    print(f'The output of the moving average for time period {time_period} is: \\n {y}')\n",
    "    \n",
    "moving_av([3, 5, 7, 2, 8, 10, 11, 65, 72, 81, 99, 100, 150],3)\n",
    "    "
   ]
  }
 ],
 "metadata": {
  "kernelspec": {
   "display_name": "Python 3",
   "language": "python",
   "name": "python3"
  },
  "language_info": {
   "codemirror_mode": {
    "name": "ipython",
    "version": 3
   },
   "file_extension": ".py",
   "mimetype": "text/x-python",
   "name": "python",
   "nbconvert_exporter": "python",
   "pygments_lexer": "ipython3",
   "version": "3.7.6"
  }
 },
 "nbformat": 4,
 "nbformat_minor": 2
}
