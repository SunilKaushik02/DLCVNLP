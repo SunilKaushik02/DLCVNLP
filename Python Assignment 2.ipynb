{
 "cells": [
  {
   "cell_type": "code",
   "execution_count": 1,
   "metadata": {},
   "outputs": [],
   "source": [
    "# importing packages\n",
    "\n",
    "import numpy as np\n",
    "import pandas as pd"
   ]
  },
  {
   "cell_type": "markdown",
   "metadata": {},
   "source": [
    "### Q1. Create the below pattern using nested for loop in Python.\n",
    "\n",
    "/*\n",
    "/**\n",
    "/***\n",
    "/****\n",
    "/*****\n",
    "/****\n",
    "/***\n",
    "/**\n",
    "/*\n",
    "\n",
    "\n"
   ]
  },
  {
   "cell_type": "code",
   "execution_count": 24,
   "metadata": {},
   "outputs": [
    {
     "name": "stdout",
     "output_type": "stream",
     "text": [
      "*\n",
      "**\n",
      "***\n",
      "****\n",
      "*****\n",
      "****\n",
      "***\n",
      "**\n",
      "*\n"
     ]
    },
    {
     "data": {
      "text/plain": [
       "[None, None, None, None]"
      ]
     },
     "execution_count": 24,
     "metadata": {},
     "output_type": "execute_result"
    }
   ],
   "source": [
    "[print(f\"{i*'*'}\") for i in range(1,6) ]\n",
    "[print(f\"{i*'*'}\") for i in range(4,0,-1)]"
   ]
  },
  {
   "cell_type": "markdown",
   "metadata": {},
   "source": [
    "### Q2. Write a Python program to reverse a word after accepting the input from the user.\n",
    "Input word: ineuron\n",
    "Output: norueni"
   ]
  },
  {
   "cell_type": "code",
   "execution_count": 14,
   "metadata": {},
   "outputs": [
    {
     "name": "stdout",
     "output_type": "stream",
     "text": [
      "Please enter a word: ineuron\n",
      "The reversed word is: norueni\n"
     ]
    }
   ],
   "source": [
    "# getting input word\n",
    "\n",
    "a=input('Please enter a word: ')\n",
    "\n",
    "# converting the word\n",
    "b=\"\".join(a)\n",
    "\n",
    "output=[b[-x] for x in range(1,len(a)+1)]\n",
    "\n",
    "try:\n",
    "\n",
    "    \"\".join(output)\n",
    "    \n",
    "except:\n",
    "    print('Please enter only 1 word')\n",
    "    \n",
    "print(f'The reversed word is: {\"\".join(output)}')\n",
    "    "
   ]
  }
 ],
 "metadata": {
  "kernelspec": {
   "display_name": "Python 3",
   "language": "python",
   "name": "python3"
  },
  "language_info": {
   "codemirror_mode": {
    "name": "ipython",
    "version": 3
   },
   "file_extension": ".py",
   "mimetype": "text/x-python",
   "name": "python",
   "nbconvert_exporter": "python",
   "pygments_lexer": "ipython3",
   "version": "3.7.6"
  }
 },
 "nbformat": 4,
 "nbformat_minor": 2
}
